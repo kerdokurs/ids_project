{
 "cells": [
  {
   "cell_type": "markdown",
   "metadata": {
    "colab_type": "text",
    "id": "view-in-github"
   },
   "source": [
    "<a href=\"https://colab.research.google.com/github/kerdokurs/ids_project/blob/master/IDS_Project.ipynb\" target=\"_parent\"><img src=\"https://colab.research.google.com/assets/colab-badge.svg\" alt=\"Open In Colab\"/></a>"
   ]
  },
  {
   "cell_type": "markdown",
   "metadata": {
    "id": "PlhQovkEDUfk"
   },
   "source": [
    "# IDS Project"
   ]
  },
  {
   "cell_type": "markdown",
   "metadata": {
    "id": "15K0T-oiEnn2"
   },
   "source": [
    "TODO: Datasetidest üleliigsete andmete eemaldus (covid, ilmastik, rattaringlus datasetides jätta alles andmed vahemikus märts 01 kuni okt 31.)\n",
    "\n"
   ]
  },
  {
   "cell_type": "code",
   "execution_count": 1,
   "metadata": {
    "id": "GtenJalaDGb8"
   },
   "outputs": [],
   "source": [
    "import pandas as pd\n",
    "import numpy as np"
   ]
  },
  {
   "cell_type": "code",
   "execution_count": 39,
   "metadata": {
    "colab": {
     "base_uri": "https://localhost:8080/"
    },
    "id": "i2huvySvEWm7",
    "outputId": "d4e175b4-3fd4-42d1-cd25-2abe8abd70be"
   },
   "outputs": [],
   "source": [
    "# Importing weather data\n",
    "weather_data = pd.read_csv(\"data/weather_2019_2021.csv\",\n",
    "  na_values=' ', dtype=np.float, parse_dates=[\"time\"],\n",
    "  names=[\"time\", \"temperature\", \"humidity\", \"pressure\", \"wind_speed\", \"wind_direction\", \"precipitation\"],\n",
    "  skiprows=1\n",
    ")"
   ]
  },
  {
   "cell_type": "code",
   "execution_count": 41,
   "metadata": {},
   "outputs": [
    {
     "name": "stdout",
     "output_type": "stream",
     "text": [
      "Dataset size: (266401, 7)\n",
      "Dataset datatypes:\n",
      "time              datetime64[ns]\n",
      "temperature              float64\n",
      "humidity                 float64\n",
      "pressure                 float64\n",
      "wind_speed               float64\n",
      "wind_direction           float64\n",
      "precipitation            float64\n",
      "dtype: object\n"
     ]
    },
    {
     "data": {
      "text/html": [
       "<div>\n",
       "<style scoped>\n",
       "    .dataframe tbody tr th:only-of-type {\n",
       "        vertical-align: middle;\n",
       "    }\n",
       "\n",
       "    .dataframe tbody tr th {\n",
       "        vertical-align: top;\n",
       "    }\n",
       "\n",
       "    .dataframe thead th {\n",
       "        text-align: right;\n",
       "    }\n",
       "</style>\n",
       "<table border=\"1\" class=\"dataframe\">\n",
       "  <thead>\n",
       "    <tr style=\"text-align: right;\">\n",
       "      <th></th>\n",
       "      <th>time</th>\n",
       "      <th>temperature</th>\n",
       "      <th>humidity</th>\n",
       "      <th>pressure</th>\n",
       "      <th>wind_speed</th>\n",
       "      <th>wind_direction</th>\n",
       "      <th>precipitation</th>\n",
       "    </tr>\n",
       "  </thead>\n",
       "  <tbody>\n",
       "    <tr>\n",
       "      <th>0</th>\n",
       "      <td>2019-05-01 01:00:00</td>\n",
       "      <td>7.360671</td>\n",
       "      <td>55.550208</td>\n",
       "      <td>1013.216400</td>\n",
       "      <td>3.354964</td>\n",
       "      <td>125.027044</td>\n",
       "      <td>0.0</td>\n",
       "    </tr>\n",
       "    <tr>\n",
       "      <th>1</th>\n",
       "      <td>2019-05-01 01:05:00</td>\n",
       "      <td>7.293279</td>\n",
       "      <td>54.974023</td>\n",
       "      <td>1013.195433</td>\n",
       "      <td>3.265612</td>\n",
       "      <td>129.091880</td>\n",
       "      <td>0.0</td>\n",
       "    </tr>\n",
       "    <tr>\n",
       "      <th>2</th>\n",
       "      <td>2019-05-01 01:10:00</td>\n",
       "      <td>7.094379</td>\n",
       "      <td>55.334567</td>\n",
       "      <td>1013.161867</td>\n",
       "      <td>3.135003</td>\n",
       "      <td>130.722977</td>\n",
       "      <td>0.0</td>\n",
       "    </tr>\n",
       "    <tr>\n",
       "      <th>3</th>\n",
       "      <td>2019-05-01 01:15:00</td>\n",
       "      <td>6.909144</td>\n",
       "      <td>55.569861</td>\n",
       "      <td>1013.123967</td>\n",
       "      <td>2.840234</td>\n",
       "      <td>130.011621</td>\n",
       "      <td>0.0</td>\n",
       "    </tr>\n",
       "    <tr>\n",
       "      <th>4</th>\n",
       "      <td>2019-05-01 01:20:00</td>\n",
       "      <td>6.864302</td>\n",
       "      <td>56.075395</td>\n",
       "      <td>1013.063156</td>\n",
       "      <td>2.822092</td>\n",
       "      <td>129.095418</td>\n",
       "      <td>0.0</td>\n",
       "    </tr>\n",
       "  </tbody>\n",
       "</table>\n",
       "</div>"
      ],
      "text/plain": [
       "                 time  temperature   humidity     pressure  wind_speed  \\\n",
       "0 2019-05-01 01:00:00     7.360671  55.550208  1013.216400    3.354964   \n",
       "1 2019-05-01 01:05:00     7.293279  54.974023  1013.195433    3.265612   \n",
       "2 2019-05-01 01:10:00     7.094379  55.334567  1013.161867    3.135003   \n",
       "3 2019-05-01 01:15:00     6.909144  55.569861  1013.123967    2.840234   \n",
       "4 2019-05-01 01:20:00     6.864302  56.075395  1013.063156    2.822092   \n",
       "\n",
       "   wind_direction  precipitation  \n",
       "0      125.027044            0.0  \n",
       "1      129.091880            0.0  \n",
       "2      130.722977            0.0  \n",
       "3      130.011621            0.0  \n",
       "4      129.095418            0.0  "
      ]
     },
     "execution_count": 41,
     "metadata": {},
     "output_type": "execute_result"
    }
   ],
   "source": [
    "print(f\"Dataset size: {weather_data.shape}\")\n",
    "print(\"Dataset datatypes:\")\n",
    "print(weather_data.dtypes)\n",
    "weather_data.head()"
   ]
  },
  {
   "cell_type": "code",
   "execution_count": null,
   "metadata": {},
   "outputs": [],
   "source": [
    "# Import bike data\n",
    "bike_data_2019 = pd.read_csv(\"data/rattaringlus/2019.csv\")\n",
    "bike_data_2020 = pd.read_csv(\"data/rattaringlus/2020.csv\")\n",
    "bike_data_2021 = pd.read_csv(\"data/rattaringlus/2021.csv\")"
   ]
  },
  {
   "cell_type": "code",
   "execution_count": null,
   "metadata": {},
   "outputs": [],
   "source": [
    "# Clean bike data by only including data in daterange march 1st to oct 31st\n",
    "bike_data_2019 = bike_data_2019[(bike_data_2019[\"unlockedat\"] > \"2019-03-01\") & (bike_data_2019[\"unlockedat\"] < \"2019-10-31\")]\n",
    "bike_data_2020 = bike_data_2020[(bike_data_2020[\"unlockedat\"] > \"2020-03-01\") & (bike_data_2020[\"unlockedat\"] < \"2020-10-31\")]\n",
    "bike_data_2021 = bike_data_2021[(bike_data_2021[\"unlockedat\"] > \"2021-03-01\") & (bike_data_2021[\"unlockedat\"] < \"2021-10-31\")]\n",
    "\n",
    "bike_data_2019 = bike_data_2019.append(bike_data_2020)\n",
    "bike_data = bike_data_2019.append(bike_data_2021)\n",
    "\n",
    "bike_data = bike_data.sort_values(by=\"unlockedat\")\n",
    "bike_data"
   ]
  },
  {
   "cell_type": "code",
   "execution_count": null,
   "metadata": {},
   "outputs": [],
   "source": []
  },
  {
   "cell_type": "code",
   "execution_count": null,
   "metadata": {},
   "outputs": [],
   "source": [
    "# Import covid data\n",
    "covid_data_raw = pd.read_csv(\"data/covid.csv\")\n",
    "covid_data_raw = covid_data_raw.sort_values(by=\"StatisticsDate\")\n",
    "covid_data_2020 = covid_data_raw[(covid_data_raw[\"StatisticsDate\"] > \"2020-03-01\") & (covid_data_raw[\"StatisticsDate\"] < \"2020-10-31\")]\n",
    "covid_data_2021 = covid_data_raw[(covid_data_raw[\"StatisticsDate\"] > \"2021-03-01\") & (covid_data_[\"StatisticsDate\"] < \"2021-10-31\")]\n",
    "covid_data "
   ]
  },
  {
   "cell_type": "code",
   "execution_count": null,
   "metadata": {},
   "outputs": [],
   "source": [
    "# Clean covid data"
   ]
  },
  {
   "cell_type": "code",
   "execution_count": null,
   "metadata": {},
   "outputs": [],
   "source": []
  },
  {
   "cell_type": "code",
   "execution_count": null,
   "metadata": {},
   "outputs": [],
   "source": []
  },
  {
   "cell_type": "code",
   "execution_count": null,
   "metadata": {},
   "outputs": [],
   "source": []
  },
  {
   "cell_type": "code",
   "execution_count": null,
   "metadata": {},
   "outputs": [],
   "source": []
  },
  {
   "cell_type": "code",
   "execution_count": null,
   "metadata": {},
   "outputs": [],
   "source": []
  }
 ],
 "metadata": {
  "colab": {
   "collapsed_sections": [],
   "include_colab_link": true,
   "name": "IDS Project.ipynb",
   "provenance": []
  },
  "kernelspec": {
   "display_name": "Python 3",
   "language": "python",
   "name": "python3"
  },
  "language_info": {
   "codemirror_mode": {
    "name": "ipython",
    "version": 3
   },
   "file_extension": ".py",
   "mimetype": "text/x-python",
   "name": "python",
   "nbconvert_exporter": "python",
   "pygments_lexer": "ipython3",
   "version": "3.8.5"
  }
 },
 "nbformat": 4,
 "nbformat_minor": 1
}
