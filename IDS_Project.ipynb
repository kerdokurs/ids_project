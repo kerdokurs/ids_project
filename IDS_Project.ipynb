{
 "cells": [
  {
   "cell_type": "markdown",
   "metadata": {
    "colab_type": "text",
    "id": "view-in-github"
   },
   "source": [
    "<a href=\"https://colab.research.google.com/github/kerdokurs/ids_project/blob/master/IDS_Project.ipynb\" target=\"_parent\"><img src=\"https://colab.research.google.com/assets/colab-badge.svg\" alt=\"Open In Colab\"/></a>"
   ]
  },
  {
   "cell_type": "markdown",
   "metadata": {
    "id": "PlhQovkEDUfk"
   },
   "source": [
    "# IDS Project"
   ]
  },
  {
   "cell_type": "markdown",
   "metadata": {
    "id": "15K0T-oiEnn2"
   },
   "source": [
    "2021 on andmed ainult kuni 30 aprillini\n"
   ]
  },
  {
   "cell_type": "code",
   "execution_count": null,
   "metadata": {},
   "outputs": [],
   "source": []
  },
  {
   "cell_type": "code",
   "execution_count": null,
   "metadata": {},
   "outputs": [],
   "source": []
  },
  {
   "cell_type": "code",
   "execution_count": 1,
   "metadata": {
    "id": "GtenJalaDGb8"
   },
   "outputs": [],
   "source": [
    "# Check for source in the README file\n",
    "\n",
    "import pandas as pd\n",
    "import numpy as np\n",
    "import matplotlib.pyplot as plt\n",
    "import datetime"
   ]
  },
  {
   "cell_type": "code",
   "execution_count": 2,
   "metadata": {
    "colab": {
     "base_uri": "https://localhost:8080/"
    },
    "id": "i2huvySvEWm7",
    "outputId": "d4e175b4-3fd4-42d1-cd25-2abe8abd70be"
   },
   "outputs": [],
   "source": [
    "# Import the weather data\n",
    "# Check for source in the README file\n",
    "#   - Use English translations for the columns\n",
    "#   - Parse date as datetime\n",
    "#   - Ignore the first row now that we have our own column names\n",
    "#   - Parse all other columns automatically\n",
    "\n",
    "weather_data = pd.read_csv(\n",
    "  \"data/weather_2019_2021.csv\",\n",
    "  names=[\"time\", \"temperature\", \"humidity\", \"pressure\", \"wind_speed\", \"wind_direction\", \"precipitation\"],\n",
    "  na_values=\" \",\n",
    "  parse_dates=[\"time\"],\n",
    "  skiprows=1,\n",
    ")"
   ]
  },
  {
   "cell_type": "code",
   "execution_count": 3,
   "metadata": {},
   "outputs": [],
   "source": [
    "# Clean the weather dataset\n",
    "\n",
    "weather_data = weather_data.drop(columns=[\"pressure\", \"wind_direction\"])"
   ]
  },
  {
   "cell_type": "code",
   "execution_count": 4,
   "metadata": {},
   "outputs": [
    {
     "name": "stdout",
     "output_type": "stream",
     "text": [
      "Dataset size: (266401, 5)\n",
      "time             datetime64[ns]\n",
      "temperature             float64\n",
      "humidity                float64\n",
      "wind_speed              float64\n",
      "precipitation           float64\n",
      "dtype: object\n"
     ]
    },
    {
     "data": {
      "text/html": [
       "<div>\n",
       "<style scoped>\n",
       "    .dataframe tbody tr th:only-of-type {\n",
       "        vertical-align: middle;\n",
       "    }\n",
       "\n",
       "    .dataframe tbody tr th {\n",
       "        vertical-align: top;\n",
       "    }\n",
       "\n",
       "    .dataframe thead th {\n",
       "        text-align: right;\n",
       "    }\n",
       "</style>\n",
       "<table border=\"1\" class=\"dataframe\">\n",
       "  <thead>\n",
       "    <tr style=\"text-align: right;\">\n",
       "      <th></th>\n",
       "      <th>time</th>\n",
       "      <th>temperature</th>\n",
       "      <th>humidity</th>\n",
       "      <th>wind_speed</th>\n",
       "      <th>precipitation</th>\n",
       "    </tr>\n",
       "  </thead>\n",
       "  <tbody>\n",
       "    <tr>\n",
       "      <th>0</th>\n",
       "      <td>2019-05-01 01:00:00</td>\n",
       "      <td>7.360671</td>\n",
       "      <td>55.550208</td>\n",
       "      <td>3.354964</td>\n",
       "      <td>0.0</td>\n",
       "    </tr>\n",
       "    <tr>\n",
       "      <th>1</th>\n",
       "      <td>2019-05-01 01:05:00</td>\n",
       "      <td>7.293279</td>\n",
       "      <td>54.974023</td>\n",
       "      <td>3.265612</td>\n",
       "      <td>0.0</td>\n",
       "    </tr>\n",
       "    <tr>\n",
       "      <th>2</th>\n",
       "      <td>2019-05-01 01:10:00</td>\n",
       "      <td>7.094379</td>\n",
       "      <td>55.334567</td>\n",
       "      <td>3.135003</td>\n",
       "      <td>0.0</td>\n",
       "    </tr>\n",
       "    <tr>\n",
       "      <th>3</th>\n",
       "      <td>2019-05-01 01:15:00</td>\n",
       "      <td>6.909144</td>\n",
       "      <td>55.569861</td>\n",
       "      <td>2.840234</td>\n",
       "      <td>0.0</td>\n",
       "    </tr>\n",
       "    <tr>\n",
       "      <th>4</th>\n",
       "      <td>2019-05-01 01:20:00</td>\n",
       "      <td>6.864302</td>\n",
       "      <td>56.075395</td>\n",
       "      <td>2.822092</td>\n",
       "      <td>0.0</td>\n",
       "    </tr>\n",
       "  </tbody>\n",
       "</table>\n",
       "</div>"
      ],
      "text/plain": [
       "                 time  temperature   humidity  wind_speed  precipitation\n",
       "0 2019-05-01 01:00:00     7.360671  55.550208    3.354964            0.0\n",
       "1 2019-05-01 01:05:00     7.293279  54.974023    3.265612            0.0\n",
       "2 2019-05-01 01:10:00     7.094379  55.334567    3.135003            0.0\n",
       "3 2019-05-01 01:15:00     6.909144  55.569861    2.840234            0.0\n",
       "4 2019-05-01 01:20:00     6.864302  56.075395    2.822092            0.0"
      ]
     },
     "execution_count": 4,
     "metadata": {},
     "output_type": "execute_result"
    }
   ],
   "source": [
    "print(f\"Dataset size: {weather_data.shape}\")\n",
    "print(weather_data.dtypes)\n",
    "weather_data.head()"
   ]
  },
  {
   "cell_type": "code",
   "execution_count": 5,
   "metadata": {},
   "outputs": [],
   "source": [
    "# Import bike data\n",
    "bike_data_2019 = pd.read_csv(\"data/rattaringlus/2019.csv\")\n",
    "bike_data_2020 = pd.read_csv(\"data/rattaringlus/2020.csv\")\n",
    "bike_data_2021 = pd.read_csv(\"data/rattaringlus/2021.csv\")"
   ]
  },
  {
   "cell_type": "code",
   "execution_count": 6,
   "metadata": {},
   "outputs": [],
   "source": [
    "# Clean bike data by only including data in daterange may 1st to oct 31st\n",
    "#bike_data_2019 = bike_data_2019[(bike_data_2019[\"unlockedat\"] >= \"2019-05-01\") & (bike_data_2019[\"unlockedat\"] <= \"2019-10-31\")]\n",
    "#bike_data_2020 = bike_data_2020[(bike_data_2020[\"unlockedat\"] >= \"2020-05-01\") & (bike_data_2020[\"unlockedat\"] <= \"2020-10-31\")]\n",
    "#bike_data_2021 = bike_data_2021[(bike_data_2021[\"unlockedat\"] >= \"2021-05-01\") & (bike_data_2021[\"unlockedat\"] <= \"2021-10-31\")]\n",
    "\n",
    "bike_data_2019 = bike_data_2019.append(bike_data_2020)\n",
    "bike_data = bike_data_2019.append(bike_data_2021)\n",
    "\n",
    "bike_data = bike_data.sort_values(by=\"unlockedat\")"
   ]
  },
  {
   "cell_type": "code",
   "execution_count": 7,
   "metadata": {},
   "outputs": [],
   "source": [
    "# Import covid data\n",
    "covid_data_raw = pd.read_csv(\"data/covid.csv\")"
   ]
  },
  {
   "cell_type": "code",
   "execution_count": 8,
   "metadata": {},
   "outputs": [
    {
     "data": {
      "text/html": [
       "<div>\n",
       "<style scoped>\n",
       "    .dataframe tbody tr th:only-of-type {\n",
       "        vertical-align: middle;\n",
       "    }\n",
       "\n",
       "    .dataframe tbody tr th {\n",
       "        vertical-align: top;\n",
       "    }\n",
       "\n",
       "    .dataframe thead th {\n",
       "        text-align: right;\n",
       "    }\n",
       "</style>\n",
       "<table border=\"1\" class=\"dataframe\">\n",
       "  <thead>\n",
       "    <tr style=\"text-align: right;\">\n",
       "      <th></th>\n",
       "      <th>id</th>\n",
       "      <th>Gender</th>\n",
       "      <th>AgeGroup</th>\n",
       "      <th>Country</th>\n",
       "      <th>County</th>\n",
       "      <th>ResultValue</th>\n",
       "      <th>StatisticsDate</th>\n",
       "      <th>ResultTime</th>\n",
       "      <th>AnalysisInsertTime</th>\n",
       "    </tr>\n",
       "  </thead>\n",
       "  <tbody>\n",
       "    <tr>\n",
       "      <th>0</th>\n",
       "      <td>4f75b2e3432a1134be12e4b0ca51e1b4d51ba36df48d70...</td>\n",
       "      <td>N</td>\n",
       "      <td>25-29</td>\n",
       "      <td>Eesti</td>\n",
       "      <td>Harju maakond</td>\n",
       "      <td>N</td>\n",
       "      <td>2020-02-05</td>\n",
       "      <td>2020-02-05 00:00:00</td>\n",
       "      <td>2020-03-21 20:30:00</td>\n",
       "    </tr>\n",
       "    <tr>\n",
       "      <th>1</th>\n",
       "      <td>c3485811d07059da2c5cfaea67680169f49673ec512846...</td>\n",
       "      <td>N</td>\n",
       "      <td>50-54</td>\n",
       "      <td>Eesti</td>\n",
       "      <td>Harju maakond</td>\n",
       "      <td>N</td>\n",
       "      <td>2020-02-06</td>\n",
       "      <td>2020-02-06 00:00:00</td>\n",
       "      <td>2020-03-21 20:30:00</td>\n",
       "    </tr>\n",
       "    <tr>\n",
       "      <th>2</th>\n",
       "      <td>d142bc15abf1e704a92aaaba7503374fcb11a4ff622b25...</td>\n",
       "      <td>N</td>\n",
       "      <td>40-44</td>\n",
       "      <td>Eesti</td>\n",
       "      <td>Harju maakond</td>\n",
       "      <td>N</td>\n",
       "      <td>2020-02-12</td>\n",
       "      <td>2020-02-12 00:00:00</td>\n",
       "      <td>2020-03-21 20:30:00</td>\n",
       "    </tr>\n",
       "    <tr>\n",
       "      <th>3</th>\n",
       "      <td>e6f3c417f9a36a2ef6d9597164f1c316e8ed37a51903fc...</td>\n",
       "      <td>N</td>\n",
       "      <td>35-39</td>\n",
       "      <td>Eesti</td>\n",
       "      <td>Harju maakond</td>\n",
       "      <td>N</td>\n",
       "      <td>2020-02-21</td>\n",
       "      <td>2020-02-21 00:00:00</td>\n",
       "      <td>2020-03-21 20:30:00</td>\n",
       "    </tr>\n",
       "    <tr>\n",
       "      <th>4</th>\n",
       "      <td>1d57b18361121db05e6f02f5f9940ef207525fb7127bd3...</td>\n",
       "      <td>M</td>\n",
       "      <td>25-29</td>\n",
       "      <td>Eesti</td>\n",
       "      <td>Pärnu maakond</td>\n",
       "      <td>N</td>\n",
       "      <td>2020-02-25</td>\n",
       "      <td>2020-02-25 00:00:00</td>\n",
       "      <td>2020-03-21 20:30:00</td>\n",
       "    </tr>\n",
       "    <tr>\n",
       "      <th>...</th>\n",
       "      <td>...</td>\n",
       "      <td>...</td>\n",
       "      <td>...</td>\n",
       "      <td>...</td>\n",
       "      <td>...</td>\n",
       "      <td>...</td>\n",
       "      <td>...</td>\n",
       "      <td>...</td>\n",
       "      <td>...</td>\n",
       "    </tr>\n",
       "    <tr>\n",
       "      <th>1291998</th>\n",
       "      <td>347e53aeee368480fdb7d97dc3cf4404111161d60d4fa1...</td>\n",
       "      <td>N</td>\n",
       "      <td>45-49</td>\n",
       "      <td>Eesti</td>\n",
       "      <td>Tartu maakond</td>\n",
       "      <td>N</td>\n",
       "      <td>2021-04-30</td>\n",
       "      <td>2021-04-30 08:00:00</td>\n",
       "      <td>2021-04-30 20:00:00</td>\n",
       "    </tr>\n",
       "    <tr>\n",
       "      <th>1291997</th>\n",
       "      <td>34401b82b9140f25080383ae74d9a62c43fe1747c7efbd...</td>\n",
       "      <td>M</td>\n",
       "      <td>45-49</td>\n",
       "      <td>Eesti</td>\n",
       "      <td>Harju maakond</td>\n",
       "      <td>N</td>\n",
       "      <td>2021-04-30</td>\n",
       "      <td>2021-04-30 14:00:00</td>\n",
       "      <td>2021-04-30 20:00:00</td>\n",
       "    </tr>\n",
       "    <tr>\n",
       "      <th>1291996</th>\n",
       "      <td>339504e43b142a0bff25f4c3b6727f3a6cc01ee1fd484c...</td>\n",
       "      <td>N</td>\n",
       "      <td>25-29</td>\n",
       "      <td>Eesti</td>\n",
       "      <td>Harju maakond</td>\n",
       "      <td>N</td>\n",
       "      <td>2021-04-30</td>\n",
       "      <td>2021-04-30 09:00:00</td>\n",
       "      <td>2021-04-30 20:00:00</td>\n",
       "    </tr>\n",
       "    <tr>\n",
       "      <th>1291995</th>\n",
       "      <td>32bf8760fc51106ed98662cfe4d26fc5c5923d5199517a...</td>\n",
       "      <td>M</td>\n",
       "      <td>15-19</td>\n",
       "      <td>Eesti</td>\n",
       "      <td>Harju maakond</td>\n",
       "      <td>N</td>\n",
       "      <td>2021-04-30</td>\n",
       "      <td>2021-04-30 19:00:00</td>\n",
       "      <td>2021-04-30 20:00:00</td>\n",
       "    </tr>\n",
       "    <tr>\n",
       "      <th>1292000</th>\n",
       "      <td>35d3272cfae1aae98c5bb1220fc728c9bd411fba7d2787...</td>\n",
       "      <td>N</td>\n",
       "      <td>55-59</td>\n",
       "      <td>Eesti</td>\n",
       "      <td>Harju maakond</td>\n",
       "      <td>N</td>\n",
       "      <td>2021-04-30</td>\n",
       "      <td>2021-04-30 12:00:00</td>\n",
       "      <td>2021-04-30 20:00:00</td>\n",
       "    </tr>\n",
       "  </tbody>\n",
       "</table>\n",
       "<p>1295207 rows × 9 columns</p>\n",
       "</div>"
      ],
      "text/plain": [
       "                                                        id Gender AgeGroup  \\\n",
       "0        4f75b2e3432a1134be12e4b0ca51e1b4d51ba36df48d70...      N    25-29   \n",
       "1        c3485811d07059da2c5cfaea67680169f49673ec512846...      N    50-54   \n",
       "2        d142bc15abf1e704a92aaaba7503374fcb11a4ff622b25...      N    40-44   \n",
       "3        e6f3c417f9a36a2ef6d9597164f1c316e8ed37a51903fc...      N    35-39   \n",
       "4        1d57b18361121db05e6f02f5f9940ef207525fb7127bd3...      M    25-29   \n",
       "...                                                    ...    ...      ...   \n",
       "1291998  347e53aeee368480fdb7d97dc3cf4404111161d60d4fa1...      N    45-49   \n",
       "1291997  34401b82b9140f25080383ae74d9a62c43fe1747c7efbd...      M    45-49   \n",
       "1291996  339504e43b142a0bff25f4c3b6727f3a6cc01ee1fd484c...      N    25-29   \n",
       "1291995  32bf8760fc51106ed98662cfe4d26fc5c5923d5199517a...      M    15-19   \n",
       "1292000  35d3272cfae1aae98c5bb1220fc728c9bd411fba7d2787...      N    55-59   \n",
       "\n",
       "        Country         County ResultValue StatisticsDate  \\\n",
       "0         Eesti  Harju maakond           N     2020-02-05   \n",
       "1         Eesti  Harju maakond           N     2020-02-06   \n",
       "2         Eesti  Harju maakond           N     2020-02-12   \n",
       "3         Eesti  Harju maakond           N     2020-02-21   \n",
       "4         Eesti  Pärnu maakond           N     2020-02-25   \n",
       "...         ...            ...         ...            ...   \n",
       "1291998   Eesti  Tartu maakond           N     2021-04-30   \n",
       "1291997   Eesti  Harju maakond           N     2021-04-30   \n",
       "1291996   Eesti  Harju maakond           N     2021-04-30   \n",
       "1291995   Eesti  Harju maakond           N     2021-04-30   \n",
       "1292000   Eesti  Harju maakond           N     2021-04-30   \n",
       "\n",
       "                  ResultTime   AnalysisInsertTime  \n",
       "0        2020-02-05 00:00:00  2020-03-21 20:30:00  \n",
       "1        2020-02-06 00:00:00  2020-03-21 20:30:00  \n",
       "2        2020-02-12 00:00:00  2020-03-21 20:30:00  \n",
       "3        2020-02-21 00:00:00  2020-03-21 20:30:00  \n",
       "4        2020-02-25 00:00:00  2020-03-21 20:30:00  \n",
       "...                      ...                  ...  \n",
       "1291998  2021-04-30 08:00:00  2021-04-30 20:00:00  \n",
       "1291997  2021-04-30 14:00:00  2021-04-30 20:00:00  \n",
       "1291996  2021-04-30 09:00:00  2021-04-30 20:00:00  \n",
       "1291995  2021-04-30 19:00:00  2021-04-30 20:00:00  \n",
       "1292000  2021-04-30 12:00:00  2021-04-30 20:00:00  \n",
       "\n",
       "[1295207 rows x 9 columns]"
      ]
     },
     "execution_count": 8,
     "metadata": {},
     "output_type": "execute_result"
    }
   ],
   "source": [
    "# Clean covid data\n",
    "covid_data_raw = covid_data_raw.sort_values(by=\"StatisticsDate\")\n",
    "#covid_data_2020 = covid_data_raw[(covid_data_raw[\"StatisticsDate\"] >= \"2020-05-01\") & (covid_data_raw[\"StatisticsDate\"] <= \"2020-10-31\")]\n",
    "#covid_data_2021 = covid_data_raw[(covid_data_raw[\"StatisticsDate\"] >= \"2021-05-01\") & (covid_data_raw[\"StatisticsDate\"] <= \"2021-10-31\")]\n",
    "covid_data = covid_data_raw[((covid_data_raw[\"StatisticsDate\"] < \"2021-05-01\"))]\n",
    "covid_data"
   ]
  },
  {
   "cell_type": "code",
   "execution_count": 9,
   "metadata": {},
   "outputs": [
    {
     "name": "stderr",
     "output_type": "stream",
     "text": [
      "<ipython-input-9-516ba4b1e0e3>:2: SettingWithCopyWarning: \n",
      "A value is trying to be set on a copy of a slice from a DataFrame.\n",
      "Try using .loc[row_indexer,col_indexer] = value instead\n",
      "\n",
      "See the caveats in the documentation: https://pandas.pydata.org/pandas-docs/stable/user_guide/indexing.html#returning-a-view-versus-a-copy\n",
      "  covid_data[\"StatisticsDate\"] = covid_data[\"StatisticsDate\"].astype(np.datetime64)\n",
      "<ipython-input-9-516ba4b1e0e3>:3: SettingWithCopyWarning: \n",
      "A value is trying to be set on a copy of a slice from a DataFrame.\n",
      "Try using .loc[row_indexer,col_indexer] = value instead\n",
      "\n",
      "See the caveats in the documentation: https://pandas.pydata.org/pandas-docs/stable/user_guide/indexing.html#returning-a-view-versus-a-copy\n",
      "  covid_data['week_number_of_year']=covid_data[\"StatisticsDate\"].dt.isocalendar().week\n",
      "<ipython-input-9-516ba4b1e0e3>:4: SettingWithCopyWarning: \n",
      "A value is trying to be set on a copy of a slice from a DataFrame.\n",
      "Try using .loc[row_indexer,col_indexer] = value instead\n",
      "\n",
      "See the caveats in the documentation: https://pandas.pydata.org/pandas-docs/stable/user_guide/indexing.html#returning-a-view-versus-a-copy\n",
      "  covid_data[\"year\"] = covid_data[\"StatisticsDate\"].dt.isocalendar().year\n"
     ]
    },
    {
     "data": {
      "text/plain": [
       "Text(0.5, 1.0, '2021')"
      ]
     },
     "execution_count": 9,
     "metadata": {},
     "output_type": "execute_result"
    },
    {
     "data": {
      "image/png": "[encoded data removed]",
      "text/plain": [
       "<Figure size 432x288 with 2 Axes>"
      ]
     },
     "metadata": {
      "needs_background": "light"
     },
     "output_type": "display_data"
    }
   ],
   "source": [
    "#VISUALISE DATA BY WEEK NUMBER AS PERCENTAGE\n",
    "covid_data[\"StatisticsDate\"] = covid_data[\"StatisticsDate\"].astype(np.datetime64)\n",
    "covid_data['week_number_of_year']=covid_data[\"StatisticsDate\"].dt.isocalendar().week\n",
    "covid_data[\"year\"] = covid_data[\"StatisticsDate\"].dt.isocalendar().year\n",
    "\"-------*******-------\"\n",
    "covid_counts20 = covid_data[covid_data[\"year\"]==2020]\n",
    "index = covid_counts20.index\n",
    "\n",
    "number_of_rows = len(index)\n",
    "covid_counts21 = covid_data[covid_data[\"year\"]==2021]\n",
    "index1 = covid_counts21.index\n",
    "\n",
    "number_of_rows1 = len(index1)\n",
    "\"-------*******-------\"\n",
    "covid_datap = covid_data[covid_data.ResultValue == \"P\"]\n",
    "nakatumiste_data = covid_datap.groupby([\"week_number_of_year\", \"year\"])[\"ResultValue\"].value_counts().rename('count').to_frame().reset_index()\n",
    "nakatumiste_data[\"year\"]\n",
    "year21=nakatumiste_data[nakatumiste_data[\"year\"] == 2021]\n",
    "year20=nakatumiste_data[nakatumiste_data[\"year\"] == 2020]\n",
    "\"-------*******-------\"\n",
    "#plot code\n",
    "fig, (ax1, ax2) = plt.subplots(1, 2)\n",
    "ax1.set_xlim(left=0, right=53)\n",
    "ax1.set_ylim(bottom=0, top=1.6)\n",
    "ax1.bar(year20[\"week_number_of_year\"], year20[\"count\"]/number_of_rows*100)\n",
    "\n",
    "ax2.bar(year21[\"week_number_of_year\"], year21[\"count\"]/number_of_rows1*100)\n",
    "fig.text(0.5, 0.04, 'Week Number', ha='center', va='center')\n",
    "fig.text(0.06, 0.5, 'positive test result %', ha='center', va='center', rotation='vertical')\n",
    "\n",
    "ax1.set_title('2020')\n",
    "ax2.set_title('2021')"
   ]
  },
  {
   "cell_type": "code",
   "execution_count": 10,
   "metadata": {},
   "outputs": [
    {
     "data": {
      "text/plain": [
       "Text(0.5, 1.0, '2021')"
      ]
     },
     "execution_count": 10,
     "metadata": {},
     "output_type": "execute_result"
    },
    {
     "data": {
      "image/png": "[encoded data removed]",
      "text/plain": [
       "<Figure size 432x288 with 2 Axes>"
      ]
     },
     "metadata": {
      "needs_background": "light"
     },
     "output_type": "display_data"
    }
   ],
   "source": [
    "#same thing with bike data\n",
    "bike_data_all_weeks = bike_data\n",
    "bike_data_all_weeks[\"unlockedat\"] = bike_data[\"unlockedat\"].astype(np.datetime64)\n",
    "bike_data_all_weeks[\"week_no_year\"] = bike_data_all_weeks[\"unlockedat\"].dt.isocalendar().week\n",
    "bike_data_all_weeks[\"year\"] = bike_data_all_weeks[\"unlockedat\"].dt.isocalendar().year\n",
    "\"--------*******--------\"\n",
    "bc20 = bike_data_all_weeks[bike_data_all_weeks[\"year\"]==2020]\n",
    "bindex = bc20.index\n",
    "\n",
    "bnumber_of_rows = len(bindex)\n",
    "bc21 = bike_data_all_weeks[bike_data_all_weeks[\"year\"]==2020]\n",
    "bindex1 = bc21.index\n",
    "\n",
    "bnumber_of_rows1 = len(bindex1)\n",
    "\"-------********--------\"\n",
    "# no of bike rides in 2020 and 2021\n",
    "bike_by_week_year = bike_data_all_weeks.groupby([\"week_no_year\",\"year\"]).size().rename('count').to_frame().reset_index()\n",
    "byear20 = bike_by_week_year[bike_by_week_year[\"year\"]== 2020]\n",
    "byear21 = bike_by_week_year[bike_by_week_year[\"year\"]== 2021]\n",
    "\n",
    "fig, (ax1, ax2) = plt.subplots(1, 2)\n",
    "#covid_counts[0] is the count of all covid tests in given time period\n",
    "ax1.set_xlim(left=0, right=53)\n",
    "ax1.set_ylim(bottom=0, top=4)\n",
    "ax1.bar(byear20[\"week_no_year\"], byear20[\"count\"]/bnumber_of_rows*100)\n",
    "\n",
    "ax2.bar(byear21[\"week_no_year\"], byear21[\"count\"]/bnumber_of_rows1*100)\n",
    "fig.text(0.5, 0.04, 'Week Number', ha='center', va='center')\n",
    "fig.text(0.06, 0.5, 'positive test result %', ha='center', va='center', rotation='vertical')\n",
    "\n",
    "ax1.set_title('2020')\n",
    "ax2.set_title('2021')\n"
   ]
  },
  {
   "cell_type": "code",
   "execution_count": 11,
   "metadata": {},
   "outputs": [
    {
     "data": {
      "image/png": "[encoded data removed]",
      "text/plain": [
       "<Figure size 432x288 with 2 Axes>"
      ]
     },
     "metadata": {
      "needs_background": "light"
     },
     "output_type": "display_data"
    }
   ],
   "source": [
    "#same with weather\n",
    "wwd = weather_data\n",
    "wwd[\"time\"] = weather_data[\"time\"].astype(np.datetime64)\n",
    "wwd[\"week\"] = wwd[\"time\"].dt.isocalendar().week\n",
    "wwd[\"year\"]=  wwd[\"time\"].dt.isocalendar().year\n",
    "wwd20 = wwd[wwd[\"year\"] == 2020]\n",
    "wwd21 = wwd[wwd[\"year\"] == 2021]\n",
    "fig, (ax1, ax2) = plt.subplots(1, 2)"
   ]
  },
  {
   "cell_type": "code",
   "execution_count": 12,
   "metadata": {},
   "outputs": [],
   "source": [
    "# TODO: Weekly bikeride statistics piirangute ajal vs ilma piirangute ajal (2020 ja 2021)\n",
    "# 2 tabelit kus on 7 bar-i (E-P) ja nendes päevades tehtud sõitude keskmine arv\n",
    "# Cardo\n",
    "# 0 - monday, 6 - sunday\n",
    "bike_data_weekDays = bike_data\n",
    "bike_data_weekDays[\"unlockedat\"] = bike_data_weekDays[\"unlockedat\"].astype(np.datetime64)\n",
    "bike_data_weekDays[\"unlockedat_day\"] = bike_data_weekDays[\"unlockedat\"].dt.dayofweek\n",
    "\n",
    "# eraldada non-piirangute ja piirangute aegsed s6idud (imo mõistlik on kokku liita need 2 lainet ning eraldi kokku liita kaks stabiilset aega ja ss võrrelda)\n",
    "\n",
    "\n",
    "\n",
    "\n",
    "# leida nädalate arv antud dataframe-i daterange-is\n",
    "non_laine_begin = min(bike_data_weekDays[\"unlockedat\"]) # FIXME: see DF tuleks asendada DF-iga kus on sõidud sellisel ajal kus ei olnud koroonalainet\n",
    "non_laine_end = max(bike_data_weekDays[\"unlockedat\"])\n",
    "non_laine_weeks = (non_laine_end - non_laine_begin).days / 7\n",
    "\n",
    "laine_begin = min(bike_data_weekDays[\"unlockedat\"]) # FIXME: see DF tuleks asendada DF-iga kus on sõidud sellisel ajal kus OLI koroonalaine\n",
    "laine_end = max(bike_data_weekDays[\"unlockedat\"])\n",
    "laine_weeks = (laine_end - laine_begin).days / 7\n",
    "\n",
    "# leida sõitude arvud nädalapäevade kaupa ning jagada kõik valued nädalate arvuga, et saada keskmine daily sõitude arv nädalate kaupa\n",
    "non_covid_rides_count = bike_data_weekDays.shape[0]\n",
    "# bike_data_weekDays.groupby([\"unlockedat_day\"])[\"unlockedat_day\"].count()\n",
    "# bike_data_weekDays.plot.bar(x = [0, 1, 2, 3, 4, 5, 6], y = bike_data_weekDays.groupby(by=\"unlockedat_day\").mean())\n",
    "# non_covid_rides_count\n",
    "\n",
    "# visualiseerida"
   ]
  },
  {
   "cell_type": "code",
   "execution_count": 13,
   "metadata": {},
   "outputs": [
    {
     "name": "stdout",
     "output_type": "stream",
     "text": [
      "Average distance (km) before covid: 2.6539883433710036\n",
      "Average distance (km) after covid (2020): 2.66533069727447\n",
      "Average distance (km) after covid (2021): 2.8012340595737073\n",
      "The average distance is slowly rising, this is most likely due to people preferring biking, instead of sitting in a crowded bus and increasing their risk of catching the virus.\n",
      "The average distance of bikers has risen 5.55% when comparing statistics from 2019 to 2021\n",
      "The average age of a person using citybikes in 2019 was: 30.988374422187917\n",
      "The average age of a person using citybikes in 2020 was: 30.85136217436684\n",
      "The average age of a person using citybikes in 2021 was: 33.085261402827655\n",
      "It appears that more and more older people are using citybikes to get around the city, most likely to avoid public transport whenever possible.\n",
      "Longest distance driven in the years 2019-2021 was 161.83km\n",
      "Longest ride of the three years was: 15 days 20:37:08\n"
     ]
    }
   ],
   "source": [
    "# TODO: Is there a difference between the statistics of the bike rides during and before covid\n",
    "#eg 2019 and 2020/21\n",
    "\n",
    "# --------------- Average distance pre covid\n",
    "avg_dist_2019 = bike_data_2019[\"length\"].mean()\n",
    "avg_dist_2020 = bike_data_2020[\"length\"].mean()\n",
    "avg_dist_2021 = bike_data_2021[\"length\"].mean()\n",
    "\n",
    "avg_dist_increase = round((avg_dist_2021 / avg_dist_2019)*100 - 100, 2)\n",
    "\n",
    "print(\"Average distance (km) before covid: \" + str(avg_dist_2019))\n",
    "print(\"Average distance (km) after covid (2020): \" + str(avg_dist_2020))\n",
    "print(\"Average distance (km) after covid (2021): \" + str(avg_dist_2021))\n",
    "\n",
    "print(\"The average distance is slowly rising, this is most likely due to people preferring biking, instead of sitting in a crowded bus and increasing their risk of catching the virus.\")\n",
    "print(\"The average distance of bikers has risen \" + str(avg_dist_increase) + \"% when comparing statistics from 2019 to 2021\")\n",
    "\n",
    "# --------------- Average age pre covid and post covid (are older people using more bikes to avoid other means of transportation?)\n",
    "\n",
    "avg_age_2019 = bike_data_2019[\"yearOfBirth\"].mean()\n",
    "avg_age_2020 = bike_data_2020[\"yearOfBirth\"].mean()\n",
    "avg_age_2021 = bike_data_2021[\"yearOfBirth\"].mean()\n",
    "\n",
    "print(\"The average age of a person using citybikes in 2019 was: \" + str(2021 - avg_age_2019))\n",
    "print(\"The average age of a person using citybikes in 2020 was: \" + str(2021 - avg_age_2020))\n",
    "print(\"The average age of a person using citybikes in 2021 was: \" + str(2021 - avg_age_2021))\n",
    "\n",
    "print(\"It appears that more and more older people are using citybikes to get around the city, most likely to avoid public transport whenever possible.\")\n",
    "\n",
    "# --------------- \"Fun facts\" aka longest distance driven, longest duration of unlocked bike\n",
    "longest_distance = max([max(bike_data_2019[\"length\"]), max(bike_data_2020[\"length\"]), max(bike_data_2021[\"length\"])])\n",
    "print(\"Longest distance driven in the years 2019-2021 was \" + str(longest_distance) + \"km\")\n",
    "\n",
    "#cast unlockedattime and lockedattime columns to datetime\n",
    "bike_data_2019[\"unlockedAtTimestamp\"] = pd.to_datetime(bike_data_2019[\"unlockedat\"] + \" \" + bike_data_2019[\"unlockedattime\"], utc=True)\n",
    "bike_data_2020[\"unlockedAtTimestamp\"] = pd.to_datetime(bike_data_2020[\"unlockedat\"] + \" \" + bike_data_2020[\"unlockedattime\"], utc=True)\n",
    "bike_data_2021[\"unlockedAtTimestamp\"] = pd.to_datetime(bike_data_2021[\"unlockedat\"] + \" \" + bike_data_2021[\"unlockedattime\"], utc=True)\n",
    "\n",
    "bike_data_2019[\"lockedAtTimestamp\"] = pd.to_datetime(bike_data_2019[\"lockedat\"] + \" \" + bike_data_2019[\"lockedattime\"], utc=True)\n",
    "bike_data_2020[\"lockedAtTimestamp\"] = pd.to_datetime(bike_data_2020[\"lockedat\"] + \" \" + bike_data_2020[\"lockedattime\"], utc=True)\n",
    "bike_data_2021[\"lockedAtTimestamp\"] = pd.to_datetime(bike_data_2021[\"lockedat\"] + \" \" + bike_data_2021[\"lockedattime\"], utc=True)\n",
    "\n",
    "bike_data_2019[\"rideDuration\"] = bike_data_2019[\"lockedAtTimestamp\"] - bike_data_2019[\"unlockedAtTimestamp\"]\n",
    "bike_data_2020[\"rideDuration\"] = bike_data_2020[\"lockedAtTimestamp\"] - bike_data_2020[\"unlockedAtTimestamp\"]\n",
    "bike_data_2021[\"rideDuration\"] = bike_data_2021[\"lockedAtTimestamp\"] - bike_data_2021[\"unlockedAtTimestamp\"]\n",
    "\n",
    "longest_ride = max([max(bike_data_2019[\"rideDuration\"]), max(bike_data_2020[\"rideDuration\"]), max(bike_data_2021[\"rideDuration\"])])\n",
    "print(\"Longest ride of the three years was: \" + str(longest_ride))\n",
    "\n",
    "\n"
   ]
  },
  {
   "cell_type": "code",
   "execution_count": null,
   "metadata": {},
   "outputs": [],
   "source": [
    "# TODO: Does the last 7 day data have any impact on no of bike rides\n",
    "# also take weather into account\n",
    "# Agnes "
   ]
  },
  {
   "cell_type": "code",
   "execution_count": null,
   "metadata": {},
   "outputs": [],
   "source": []
  },
  {
   "cell_type": "code",
   "execution_count": null,
   "metadata": {},
   "outputs": [],
   "source": []
  },
  {
   "cell_type": "code",
   "execution_count": null,
   "metadata": {},
   "outputs": [],
   "source": []
  },
  {
   "cell_type": "code",
   "execution_count": null,
   "metadata": {},
   "outputs": [],
   "source": []
  },
  {
   "cell_type": "code",
   "execution_count": null,
   "metadata": {},
   "outputs": [],
   "source": []
  },
  {
   "cell_type": "code",
   "execution_count": null,
   "metadata": {},
   "outputs": [],
   "source": []
  },
  {
   "cell_type": "code",
   "execution_count": null,
   "metadata": {},
   "outputs": [],
   "source": []
  },
  {
   "cell_type": "code",
   "execution_count": null,
   "metadata": {},
   "outputs": [],
   "source": []
  },
  {
   "cell_type": "code",
   "execution_count": null,
   "metadata": {},
   "outputs": [],
   "source": []
  },
  {
   "cell_type": "code",
   "execution_count": null,
   "metadata": {},
   "outputs": [],
   "source": []
  },
  {
   "cell_type": "code",
   "execution_count": null,
   "metadata": {},
   "outputs": [],
   "source": []
  },
  {
   "cell_type": "code",
   "execution_count": null,
   "metadata": {},
   "outputs": [],
   "source": []
  },
  {
   "cell_type": "code",
   "execution_count": null,
   "metadata": {},
   "outputs": [],
   "source": []
  },
  {
   "cell_type": "code",
   "execution_count": null,
   "metadata": {},
   "outputs": [],
   "source": []
  },
  {
   "cell_type": "code",
   "execution_count": null,
   "metadata": {},
   "outputs": [],
   "source": []
  },
  {
   "cell_type": "code",
   "execution_count": null,
   "metadata": {},
   "outputs": [],
   "source": []
  }
 ],
 "metadata": {
  "colab": {
   "collapsed_sections": [],
   "include_colab_link": true,
   "name": "IDS Project.ipynb",
   "provenance": []
  },
  "kernelspec": {
   "display_name": "Python 3 (ipykernel)",
   "language": "python",
   "name": "python3"
  },
  "language_info": {
   "codemirror_mode": {
    "name": "ipython",
    "version": 3
   },
   "file_extension": ".py",
   "mimetype": "text/x-python",
   "name": "python",
   "nbconvert_exporter": "python",
   "pygments_lexer": "ipython3",
   "version": "3.8.8"
  }
 },
 "nbformat": 4,
 "nbformat_minor": 1
}
