{
  "nbformat": 4,
  "nbformat_minor": 0,
  "metadata": {
    "colab": {
      "name": "IDS Project.ipynb",
      "provenance": [],
      "collapsed_sections": [],
      "include_colab_link": true
    },
    "kernelspec": {
      "name": "python3",
      "display_name": "Python 3"
    },
    "language_info": {
      "name": "python"
    }
  },
  "cells": [
    {
      "cell_type": "markdown",
      "metadata": {
        "id": "view-in-github",
        "colab_type": "text"
      },
      "source": [
        "<a href=\"https://colab.research.google.com/github/kerdokurs/ids_project/blob/master/IDS_Project.ipynb\" target=\"_parent\"><img src=\"https://colab.research.google.com/assets/colab-badge.svg\" alt=\"Open In Colab\"/></a>"
      ]
    },
    {
      "cell_type": "markdown",
      "metadata": {
        "id": "PlhQovkEDUfk"
      },
      "source": [
        "# IDS Project"
      ]
    },
    {
      "cell_type": "markdown",
      "metadata": {
        "id": "15K0T-oiEnn2"
      },
      "source": [
        "TODO: Datasetidest üleliigsete andmete eemaldus (covid, ilmastik, rattaringlus datasetides jätta alles andmed vahemikus märts 01 kuni okt 31.)\n",
        "\n"
      ]
    },
    {
      "cell_type": "code",
      "metadata": {
        "id": "GtenJalaDGb8"
      },
      "source": [
        "import pandas as pd\n",
        "import numpy as np"
      ],
      "execution_count": null,
      "outputs": []
    },
    {
      "cell_type": "code",
      "metadata": {
        "colab": {
          "base_uri": "https://localhost:8080/"
        },
        "id": "i2huvySvEWm7",
        "outputId": "d4e175b4-3fd4-42d1-cd25-2abe8abd70be"
      },
      "source": [
        "# Importing weather data\n",
        "weather_data = pd.read_csv(\"weather_2019_2021.csv\")"
      ],
      "execution_count": 19,
      "outputs": [
        {
          "output_type": "stream",
          "name": "stderr",
          "text": [
            "/usr/local/lib/python3.7/dist-packages/IPython/core/interactiveshell.py:2718: DtypeWarning: Columns (1,2,3,4,5) have mixed types.Specify dtype option on import or set low_memory=False.\n",
            "  interactivity=interactivity, compiler=compiler, result=result)\n"
          ]
        }
      ]
    },
    {
      "cell_type": "code",
      "metadata": {
        "colab": {
          "base_uri": "https://localhost:8080/"
        },
        "id": "nNvz8JdWNXVS",
        "outputId": "e655784e-a7ce-44b8-8fe4-6ce9a10a6c77"
      },
      "source": [
        "# Clean data columns\n",
        "weather_data.columns = weather_data.columns.map(lambda val: val.strip() if isinstance(val, str) else val)\n",
        "weather_data.columns"
      ],
      "execution_count": 21,
      "outputs": [
        {
          "output_type": "execute_result",
          "data": {
            "text/plain": [
              "Index(['Aeg', 'Temperatuur', 'Niiskus', 'Õhurõhk', 'Tuule kiirus',\n",
              "       'Tuule suund', 'Sademed'],\n",
              "      dtype='object')"
            ]
          },
          "metadata": {},
          "execution_count": 21
        }
      ]
    },
    {
      "cell_type": "code",
      "metadata": {
        "colab": {
          "base_uri": "https://localhost:8080/",
          "height": 424
        },
        "id": "k1hnHJ51NgTT",
        "outputId": "6d1d1a15-1700-4d7d-f8b2-d73a1e84d449"
      },
      "source": [
        "weather_data[weather_data[\"Sademed\"] > 0]"
      ],
      "execution_count": 22,
      "outputs": [
        {
          "output_type": "execute_result",
          "data": {
            "text/html": [
              "<div>\n",
              "<style scoped>\n",
              "    .dataframe tbody tr th:only-of-type {\n",
              "        vertical-align: middle;\n",
              "    }\n",
              "\n",
              "    .dataframe tbody tr th {\n",
              "        vertical-align: top;\n",
              "    }\n",
              "\n",
              "    .dataframe thead th {\n",
              "        text-align: right;\n",
              "    }\n",
              "</style>\n",
              "<table border=\"1\" class=\"dataframe\">\n",
              "  <thead>\n",
              "    <tr style=\"text-align: right;\">\n",
              "      <th></th>\n",
              "      <th>Aeg</th>\n",
              "      <th>Temperatuur</th>\n",
              "      <th>Niiskus</th>\n",
              "      <th>Õhurõhk</th>\n",
              "      <th>Tuule kiirus</th>\n",
              "      <th>Tuule suund</th>\n",
              "      <th>Sademed</th>\n",
              "    </tr>\n",
              "  </thead>\n",
              "  <tbody>\n",
              "    <tr>\n",
              "      <th>366</th>\n",
              "      <td>2019-05-02 07:30:00</td>\n",
              "      <td>5.99891687657</td>\n",
              "      <td>73.5863979849</td>\n",
              "      <td>987.825833333</td>\n",
              "      <td>2.25990021156909</td>\n",
              "      <td>254.924661733355</td>\n",
              "      <td>0.054</td>\n",
              "    </tr>\n",
              "    <tr>\n",
              "      <th>367</th>\n",
              "      <td>2019-05-02 07:35:00</td>\n",
              "      <td>5.7834079602</td>\n",
              "      <td>75.5582587065</td>\n",
              "      <td>987.877266667</td>\n",
              "      <td>3.12491182617828</td>\n",
              "      <td>247.486808173661</td>\n",
              "      <td>0.032</td>\n",
              "    </tr>\n",
              "    <tr>\n",
              "      <th>368</th>\n",
              "      <td>2019-05-02 07:40:00</td>\n",
              "      <td>5.58989974937</td>\n",
              "      <td>78.047518797</td>\n",
              "      <td>987.768770764</td>\n",
              "      <td>2.18531468997856</td>\n",
              "      <td>256.677936089867</td>\n",
              "      <td>0.066</td>\n",
              "    </tr>\n",
              "    <tr>\n",
              "      <th>373</th>\n",
              "      <td>2019-05-02 08:05:00</td>\n",
              "      <td>5.28606060606</td>\n",
              "      <td>83.8981818182</td>\n",
              "      <td>987.2702</td>\n",
              "      <td>1.97410532888037</td>\n",
              "      <td>218.593970255567</td>\n",
              "      <td>0.250</td>\n",
              "    </tr>\n",
              "    <tr>\n",
              "      <th>374</th>\n",
              "      <td>2019-05-02 08:10:00</td>\n",
              "      <td>5.19432835821</td>\n",
              "      <td>84.8754726368</td>\n",
              "      <td>987.172233333</td>\n",
              "      <td>2.21769069775358</td>\n",
              "      <td>213.40708656978</td>\n",
              "      <td>0.097</td>\n",
              "    </tr>\n",
              "    <tr>\n",
              "      <th>...</th>\n",
              "      <td>...</td>\n",
              "      <td>...</td>\n",
              "      <td>...</td>\n",
              "      <td>...</td>\n",
              "      <td>...</td>\n",
              "      <td>...</td>\n",
              "      <td>...</td>\n",
              "    </tr>\n",
              "    <tr>\n",
              "      <th>265799</th>\n",
              "      <td>2021-10-28 22:50:00</td>\n",
              "      <td>11.7015</td>\n",
              "      <td>97.4635</td>\n",
              "      <td>1015.28</td>\n",
              "      <td>4.75929</td>\n",
              "      <td>252.864</td>\n",
              "      <td>0.031</td>\n",
              "    </tr>\n",
              "    <tr>\n",
              "      <th>265802</th>\n",
              "      <td>2021-10-28 23:05:00</td>\n",
              "      <td>11.5861</td>\n",
              "      <td>97.5223</td>\n",
              "      <td>1015.37</td>\n",
              "      <td>5.07495</td>\n",
              "      <td>259.155</td>\n",
              "      <td>0.056</td>\n",
              "    </tr>\n",
              "    <tr>\n",
              "      <th>265803</th>\n",
              "      <td>2021-10-28 23:10:00</td>\n",
              "      <td>11.5516</td>\n",
              "      <td>97.401</td>\n",
              "      <td>1015.38</td>\n",
              "      <td>5.0778</td>\n",
              "      <td>260.815</td>\n",
              "      <td>0.032</td>\n",
              "    </tr>\n",
              "    <tr>\n",
              "      <th>265812</th>\n",
              "      <td>2021-10-28 23:55:00</td>\n",
              "      <td>11.5132</td>\n",
              "      <td>91.4901</td>\n",
              "      <td>1015.63</td>\n",
              "      <td>4.75141</td>\n",
              "      <td>261.882</td>\n",
              "      <td>0.051</td>\n",
              "    </tr>\n",
              "    <tr>\n",
              "      <th>265824</th>\n",
              "      <td>2021-10-29 00:55:00</td>\n",
              "      <td>11.025</td>\n",
              "      <td>91.2771</td>\n",
              "      <td>1015.84</td>\n",
              "      <td>5.11144</td>\n",
              "      <td>259.585</td>\n",
              "      <td>0.067</td>\n",
              "    </tr>\n",
              "  </tbody>\n",
              "</table>\n",
              "<p>11448 rows × 7 columns</p>\n",
              "</div>"
            ],
            "text/plain": [
              "                        Aeg     Temperatuur  ...        Tuule suund Sademed\n",
              "366     2019-05-02 07:30:00   5.99891687657  ...   254.924661733355   0.054\n",
              "367     2019-05-02 07:35:00    5.7834079602  ...   247.486808173661   0.032\n",
              "368     2019-05-02 07:40:00   5.58989974937  ...   256.677936089867   0.066\n",
              "373     2019-05-02 08:05:00   5.28606060606  ...   218.593970255567   0.250\n",
              "374     2019-05-02 08:10:00   5.19432835821  ...    213.40708656978   0.097\n",
              "...                     ...             ...  ...                ...     ...\n",
              "265799  2021-10-28 22:50:00         11.7015  ...            252.864   0.031\n",
              "265802  2021-10-28 23:05:00         11.5861  ...            259.155   0.056\n",
              "265803  2021-10-28 23:10:00         11.5516  ...            260.815   0.032\n",
              "265812  2021-10-28 23:55:00         11.5132  ...            261.882   0.051\n",
              "265824  2021-10-29 00:55:00          11.025  ...            259.585   0.067\n",
              "\n",
              "[11448 rows x 7 columns]"
            ]
          },
          "metadata": {},
          "execution_count": 22
        }
      ]
    }
  ]
}