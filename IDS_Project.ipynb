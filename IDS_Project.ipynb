{
 "cells": [
  {
   "cell_type": "markdown",
   "metadata": {
    "colab_type": "text",
    "id": "view-in-github"
   },
   "source": [
    "<a href=\"https://colab.research.google.com/github/kerdokurs/ids_project/blob/master/IDS_Project.ipynb\" target=\"_parent\"><img src=\"https://colab.research.google.com/assets/colab-badge.svg\" alt=\"Open In Colab\"/></a>"
   ]
  },
  {
   "cell_type": "markdown",
   "metadata": {
    "id": "PlhQovkEDUfk"
   },
   "source": [
    "# IDS Project"
   ]
  },
  {
   "cell_type": "markdown",
   "metadata": {
    "id": "15K0T-oiEnn2"
   },
   "source": [
    "TODO: Datasetidest üleliigsete andmete eemaldus (covid, ilmastik, rattaringlus datasetides jätta alles andmed vahemikus märts 01 kuni okt 31.)\n",
    "\n"
   ]
  },
  {
   "cell_type": "code",
   "execution_count": null,
   "metadata": {},
   "outputs": [],
   "source": []
  },
  {
   "cell_type": "code",
   "execution_count": 162,
   "metadata": {
    "id": "GtenJalaDGb8"
   },
   "outputs": [],
   "source": [
    "# Check for source in the README file\n",
    "\n",
    "import pandas as pd\n",
    "#   - Use English translations for the columns\n",
    "#   - Parse date as datetime\n",
    "#   - Ignore the first row now that we have our own column names\n",
    "#   - Parse all other columns automaticallymport matplotlib.pyplot as plt"
   ]
  },
  {
   "cell_type": "code",
   "execution_count": 163,
   "metadata": {
    "colab": {
     "base_uri": "https://localhost:8080/"
    },
    "id": "i2huvySvEWm7",
    "outputId": "d4e175b4-3fd4-42d1-cd25-2abe8abd70be"
   },
   "outputs": [],
   "source": [
    "# Import the weather data\n",
    "# Check for source in the README file\n",
    "#\n",
    "\n",
    "weather_data = pd.read_csv(\n",
    "  \"data/weather_2019_2021.csv\",\n",
    "  names=[\"time\", \"temperature\", \"humidity\", \"pressure\", \"wind_speed\", \"wind_direction\", \"precipitation\"],\n",
    "  na_values=\" \",\n",
    "  parse_dates=[\"time\"],\n",
    "  skiprows=1,\n",
    ")"
   ]
  },
  {
   "cell_type": "code",
   "execution_count": 164,
   "metadata": {},
   "outputs": [],
   "source": [
    "# Clean the weather dataset\n",
    "\n",
    "weather_data = weather_data.drop(columns=[\"pressure\", \"wind_direction\"])"
   ]
  },
  {
   "cell_type": "code",
   "execution_count": 165,
   "metadata": {},
   "outputs": [
    {
     "name": "stdout",
     "output_type": "stream",
     "text": [
      "Dataset size: (266401, 5)\n",
      "time             datetime64[ns]\n",
      "temperature             float64\n",
      "humidity                float64\n",
      "wind_speed              float64\n",
      "precipitation           float64\n",
      "dtype: object\n"
     ]
    },
    {
     "data": {
      "text/html": [
       "<div>\n",
       "<style scoped>\n",
       "    .dataframe tbody tr th:only-of-type {\n",
       "        vertical-align: middle;\n",
       "    }\n",
       "\n",
       "    .dataframe tbody tr th {\n",
       "        vertical-align: top;\n",
       "    }\n",
       "\n",
       "    .dataframe thead th {\n",
       "        text-align: right;\n",
       "    }\n",
       "</style>\n",
       "<table border=\"1\" class=\"dataframe\">\n",
       "  <thead>\n",
       "    <tr style=\"text-align: right;\">\n",
       "      <th></th>\n",
       "      <th>time</th>\n",
       "      <th>temperature</th>\n",
       "      <th>humidity</th>\n",
       "      <th>wind_speed</th>\n",
       "      <th>precipitation</th>\n",
       "    </tr>\n",
       "  </thead>\n",
       "  <tbody>\n",
       "    <tr>\n",
       "      <th>0</th>\n",
       "      <td>2019-05-01 01:00:00</td>\n",
       "      <td>7.360671</td>\n",
       "      <td>55.550208</td>\n",
       "      <td>3.354964</td>\n",
       "      <td>0.0</td>\n",
       "    </tr>\n",
       "    <tr>\n",
       "      <th>1</th>\n",
       "      <td>2019-05-01 01:05:00</td>\n",
       "      <td>7.293279</td>\n",
       "      <td>54.974023</td>\n",
       "      <td>3.265612</td>\n",
       "      <td>0.0</td>\n",
       "    </tr>\n",
       "    <tr>\n",
       "      <th>2</th>\n",
       "      <td>2019-05-01 01:10:00</td>\n",
       "      <td>7.094379</td>\n",
       "      <td>55.334567</td>\n",
       "      <td>3.135003</td>\n",
       "      <td>0.0</td>\n",
       "    </tr>\n",
       "    <tr>\n",
       "      <th>3</th>\n",
       "      <td>2019-05-01 01:15:00</td>\n",
       "      <td>6.909144</td>\n",
       "      <td>55.569861</td>\n",
       "      <td>2.840234</td>\n",
       "      <td>0.0</td>\n",
       "    </tr>\n",
       "    <tr>\n",
       "      <th>4</th>\n",
       "      <td>2019-05-01 01:20:00</td>\n",
       "      <td>6.864302</td>\n",
       "      <td>56.075395</td>\n",
       "      <td>2.822092</td>\n",
       "      <td>0.0</td>\n",
       "    </tr>\n",
       "  </tbody>\n",
       "</table>\n",
       "</div>"
      ],
      "text/plain": [
       "                 time  temperature   humidity  wind_speed  precipitation\n",
       "0 2019-05-01 01:00:00     7.360671  55.550208    3.354964            0.0\n",
       "1 2019-05-01 01:05:00     7.293279  54.974023    3.265612            0.0\n",
       "2 2019-05-01 01:10:00     7.094379  55.334567    3.135003            0.0\n",
       "3 2019-05-01 01:15:00     6.909144  55.569861    2.840234            0.0\n",
       "4 2019-05-01 01:20:00     6.864302  56.075395    2.822092            0.0"
      ]
     },
     "execution_count": 165,
     "metadata": {},
     "output_type": "execute_result"
    }
   ],
   "source": [
    "print(f\"Dataset size: {weather_data.shape}\")\n",
    "print(weather_data.dtypes)\n",
    "weather_data.head()"
   ]
  },
  {
   "cell_type": "code",
   "execution_count": 166,
   "metadata": {},
   "outputs": [],
   "source": [
    "# Import bike data\n",
    "bike_data_2019 = pd.read_csv(\"data/rattaringlus/2019.csv\")\n",
    "bike_data_2020 = pd.read_csv(\"data/rattaringlus/2020.csv\")\n",
    "bike_data_2021 = pd.read_csv(\"data/rattaringlus/2021.csv\")"
   ]
  },
  {
   "cell_type": "code",
   "execution_count": 167,
   "metadata": {},
   "outputs": [],
   "source": [
    "# Clean bike data by only including data in daterange may 1st to oct 31st\n",
    "bike_data_2019 = bike_data_2019[(bike_data_2019[\"unlockedat\"] >= \"2019-05-01\") & (bike_data_2019[\"unlockedat\"] <= \"2019-10-31\")]\n",
    "bike_data_2020 = bike_data_2020[(bike_data_2020[\"unlockedat\"] >= \"2020-05-01\") & (bike_data_2020[\"unlockedat\"] <= \"2020-10-31\")]\n",
    "bike_data_2021 = bike_data_2021[(bike_data_2021[\"unlockedat\"] >= \"2021-05-01\") & (bike_data_2021[\"unlockedat\"] <= \"2021-10-31\")]\n",
    "\n",
    "bike_data_2019 = bike_data_2019.append(bike_data_2020)\n",
    "bike_data = bike_data_2019.append(bike_data_2021)\n",
    "\n",
    "bike_data = bike_data.sort_values(by=\"unlockedat\")"
   ]
  },
  {
   "cell_type": "code",
   "execution_count": null,
   "metadata": {},
   "outputs": [],
   "source": []
  },
  {
   "cell_type": "code",
   "execution_count": 168,
   "metadata": {},
   "outputs": [],
   "source": [
    "# Import covid data\n",
    "covid_data_raw = pd.read_csv(\"data/covid.csv\")"
   ]
  },
  {
   "cell_type": "code",
   "execution_count": 195,
   "metadata": {},
   "outputs": [],
   "source": [
    "# Clean covid data\n",
    "covid_data_raw = covid_data_raw.sort_values(by=\"StatisticsDate\")\n",
    "covid_data_2020 = covid_data_raw[(covid_data_raw[\"StatisticsDate\"] >= \"2020-05-01\") & (covid_data_raw[\"StatisticsDate\"] <= \"2020-10-31\")]\n",
    "covid_data_2021 = covid_data_raw[(covid_data_raw[\"StatisticsDate\"] >= \"2021-05-01\") & (covid_data_raw[\"StatisticsDate\"] <= \"2021-10-31\")]\n",
    "covid_data = covid_data_2020.append(covid_data_2021)"
   ]
  },
  {
   "cell_type": "code",
   "execution_count": 237,
   "metadata": {},
   "outputs": [
    {
     "data": {
      "text/plain": [
       "<AxesSubplot:xlabel='StatisticsDate,ResultValue'>"
      ]
     },
     "execution_count": 237,
     "metadata": {},
     "output_type": "execute_result"
    },
    {
     "data": {
      "image/png": "[encoded data removed]",
      "text/plain": [
       "<Figure size 432x288 with 1 Axes>"
      ]
     },
     "metadata": {
      "needs_background": "light"
     },
     "output_type": "display_data"
    }
   ],
   "source": [
    "# Eraldada koroonaviiruse andmestikust nakatumiste lained ning panna need kuupäevad \"Weekly bikeride statistics\" Celli, tundub mõistlikum kui et lihtsalt piirangute põhjal teha, sest\n",
    "# piirangutega on raske konkreetseid kuupäevi paika panna\n",
    "# aka teeme mingi linecharti nakatumistest ja selle põhjal eraldame kuupäevad kus nakatumised tõusid, langesid ning seome selle mingi teise pildiga posteril kus võrdleme bike usage sagedust nende lainete ajal ja non-lainete aegse sagedusega\n",
    "import matplotlib.pyplot as plt\n",
    "\n",
    "covid_data[\"StatisticsDate\"] = covid_data[\"StatisticsDate\"].astype(np.datetime64)\n",
    "\n",
    "covid_data = covid_data[covid_data.ResultValue == \"P\"]\n",
    "nakatumiste_data = covid_data.groupby([\"StatisticsDate\"])[\"ResultValue\"].value_counts()\n",
    "covid_daterange = pd.date_range(start=min(covid_data[\"StatisticsDate\"]), end=max(covid_data[\"StatisticsDate\"]), freq=\"W\")\n",
    "covid_daterange\n",
    "\n",
    "nakatumiste_data.plot.line(y=\"ResultValue\")\n",
    "# plt.plot(nakatumiste_data[\"StatisticsDate\"], nakatumiste_data[\"ResultValue\"])\n",
    "\n",
    "# FIXME: X-telg on unreadable"
   ]
  },
  {
   "cell_type": "code",
   "execution_count": 160,
   "metadata": {},
   "outputs": [
    {
     "data": {
      "text/plain": [
       "99.71428571428571"
      ]
     },
     "execution_count": 160,
     "metadata": {},
     "output_type": "execute_result"
    }
   ],
   "source": [
    "# TODO: Weekly bikeride statistics piirangute ajal vs ilma piirangute ajal (2020 ja 2021)\n",
    "# 2 tabelit kus on 7 bar-i (E-P) ja nendes päevades tehtud sõitude keskmine arv\n",
    "# Cardo\n",
    "# 0 - monday, 6 - sunday\n",
    "bike_data_weekDays = bike_data\n",
    "bike_data_weekDays[\"unlockedat\"] = bike_data_weekDays[\"unlockedat\"].astype(np.datetime64)\n",
    "bike_data_weekDays[\"unlockedat_day\"] = bike_data_weekDays[\"unlockedat\"].dt.dayofweek\n",
    "\n",
    "\n",
    "# eraldada non-piirangute ja piirangute aegsed s6idud (imo mõistlik on kokku liita need 2 lainet ning eraldi kokku liita kaks stabiilset aega ja ss võrrelda)\n",
    "\n",
    "# leida nädalate arv antud dataframe-i daterange-is\n",
    "non_laine_begin = min(bike_data_weekDays[\"unlockedat\"]) # FIXME: see DF tuleks asendada DF-iga kus on sõidud sellisel ajal kus ei olnud koroonalainet\n",
    "non_laine_end = max(bike_data_weekDays[\"unlockedat\"])\n",
    "non_laine_weeks = (non_laine_end - non_laine_begin).days / 7\n",
    "\n",
    "laine_begin = min(bike_data_weekDays[\"unlockedat\"]) # FIXME: see DF tuleks asendada DF-iga kus on sõidud sellisel ajal kus OLI koroonalaine\n",
    "laine_end = max(bike_data_weekDays[\"unlockedat\"])\n",
    "laine_weeks = (laine_end - laine_begin).days / 7\n",
    "\n",
    "\n",
    "\n",
    "# non_covid_rides_count = bike_data_weekDays.shape[0]\n",
    "# bike_data_weekDays.groupby([\"unlockedat_day\"])[\"unlockedat_day\"].count()\n",
    "# bike_data_weekDays.plot.bar(x = [0, 1, 2, 3, 4, 5, 6], y = bike_data_weekDays.groupby(by=\"unlockedat_day\").mean())\n",
    "# non_covid_rides_count\n",
    "\n",
    "# visualiseerida"
   ]
  },
  {
   "cell_type": "code",
   "execution_count": null,
   "metadata": {},
   "outputs": [],
   "source": [
    "# TODO: Is there a difference between the statistics of the bike rides during and before covid\n",
    "#eg 2019 and 2020/21"
   ]
  },
  {
   "cell_type": "code",
   "execution_count": null,
   "metadata": {},
   "outputs": [],
   "source": [
    "# TODO: Does the last 7 day data have any impact on no of bike rides\n",
    "# also take weather into account\n",
    "# Agnes "
   ]
  },
  {
   "cell_type": "code",
   "execution_count": null,
   "metadata": {},
   "outputs": [],
   "source": []
  },
  {
   "cell_type": "code",
   "execution_count": null,
   "metadata": {},
   "outputs": [],
   "source": []
  },
  {
   "cell_type": "code",
   "execution_count": null,
   "metadata": {},
   "outputs": [],
   "source": []
  },
  {
   "cell_type": "code",
   "execution_count": null,
   "metadata": {},
   "outputs": [],
   "source": []
  }
 ],
 "metadata": {
  "colab": {
   "collapsed_sections": [],
   "include_colab_link": true,
   "name": "IDS Project.ipynb",
   "provenance": []
  },
  "kernelspec": {
   "display_name": "Python 3",
   "language": "python",
   "name": "python3"
  },
  "language_info": {
   "codemirror_mode": {
    "name": "ipython",
    "version": 3
   },
   "file_extension": ".py",
   "mimetype": "text/x-python",
   "name": "python",
   "nbconvert_exporter": "python",
   "pygments_lexer": "ipython3",
   "version": "3.8.5"
  }
 },
 "nbformat": 4,
 "nbformat_minor": 1
}
